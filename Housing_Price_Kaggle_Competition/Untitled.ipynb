{
 "cells": [
  {
   "cell_type": "code",
   "execution_count": 1,
   "id": "776c8c07",
   "metadata": {},
   "outputs": [],
   "source": [
    "# This is Kaggle Competition "
   ]
  },
  {
   "cell_type": "code",
   "execution_count": 152,
   "id": "6f473c5e",
   "metadata": {},
   "outputs": [],
   "source": [
    "import numpy as np"
   ]
  },
  {
   "cell_type": "code",
   "execution_count": 153,
   "id": "e1e8adb2",
   "metadata": {},
   "outputs": [],
   "source": [
    "import pandas as pd"
   ]
  },
  {
   "cell_type": "code",
   "execution_count": 154,
   "id": "c69b71c2",
   "metadata": {},
   "outputs": [],
   "source": [
    "import os"
   ]
  },
  {
   "cell_type": "code",
   "execution_count": 155,
   "id": "0966f4a5",
   "metadata": {},
   "outputs": [],
   "source": [
    "data=pd.read_csv(\"train.csv\")"
   ]
  },
  {
   "cell_type": "code",
   "execution_count": 156,
   "id": "02caeabe",
   "metadata": {},
   "outputs": [],
   "source": [
    "test_data=pd.read_csv(\"test.csv\")"
   ]
  },
  {
   "cell_type": "code",
   "execution_count": 157,
   "id": "64b0963b",
   "metadata": {},
   "outputs": [],
   "source": [
    "# checking high correlations between the variables \n",
    "COLUMNS_WITH_HIGH_CORR=set()"
   ]
  },
  {
   "cell_type": "code",
   "execution_count": 158,
   "id": "d3e891e9",
   "metadata": {},
   "outputs": [
    {
     "name": "stdout",
     "output_type": "stream",
     "text": [
      "Column Id and column Id has highest correlation of 99.99999999999999\n",
      "Column OverallCond and column OverallCond has highest correlation of 99.99999999999997\n",
      "Column YearBuilt and column GarageYrBlt has highest correlation of 82.5667484174342\n",
      "Column MasVnrArea and column MasVnrArea has highest correlation of 99.99999999999999\n",
      "Column BsmtFinSF2 and column BsmtFinSF2 has highest correlation of 99.99999999999997\n",
      "Column TotalBsmtSF and column 1stFlrSF has highest correlation of 81.95299750050333\n",
      "Column 1stFlrSF and column TotalBsmtSF has highest correlation of 81.95299750050332\n",
      "Column 1stFlrSF and column 1stFlrSF has highest correlation of 99.99999999999999\n",
      "Column GrLivArea and column TotRmsAbvGrd has highest correlation of 82.5489374308843\n",
      "Column FullBath and column FullBath has highest correlation of 99.99999999999997\n",
      "Column BedroomAbvGr and column BedroomAbvGr has highest correlation of 99.99999999999999\n",
      "Column TotRmsAbvGrd and column GrLivArea has highest correlation of 82.54893743088428\n",
      "Column GarageYrBlt and column YearBuilt has highest correlation of 82.5667484174342\n",
      "Column GarageCars and column GarageCars has highest correlation of 99.99999999999999\n",
      "Column GarageCars and column GarageArea has highest correlation of 88.24754142814626\n",
      "Column GarageArea and column GarageCars has highest correlation of 88.24754142814626\n",
      "Column 3SsnPorch and column 3SsnPorch has highest correlation of 99.99999999999999\n",
      "Column ScreenPorch and column ScreenPorch has highest correlation of 99.99999999999999\n",
      "Column MiscVal and column MiscVal has highest correlation of 99.99999999999999\n",
      "Column SalePrice and column SalePrice has highest correlation of 99.99999999999997\n"
     ]
    }
   ],
   "source": [
    "for first_column in data.columns:\n",
    "    if data[first_column].dtype in ['int64','float64']:\n",
    "        for second_column in data.columns:\n",
    "            if data[second_column].dtype in ['int64','float64']:\n",
    "                corr_column_one_two=data[first_column].corr(data[second_column])\n",
    "                if corr_column_one_two >=0.8 and corr_column_one_two <1:\n",
    "                    COLUMNS_WITH_HIGH_CORR.add(first_column)\n",
    "                    COLUMNS_WITH_HIGH_CORR.add(second_column)\n",
    "                    print(\"Column {} and column {} has highest correlation of {}\".format(first_column,second_column,corr_column_one_two*100))"
   ]
  },
  {
   "cell_type": "code",
   "execution_count": 159,
   "id": "5f4fe062",
   "metadata": {},
   "outputs": [
    {
     "data": {
      "text/html": [
       "<div>\n",
       "<style scoped>\n",
       "    .dataframe tbody tr th:only-of-type {\n",
       "        vertical-align: middle;\n",
       "    }\n",
       "\n",
       "    .dataframe tbody tr th {\n",
       "        vertical-align: top;\n",
       "    }\n",
       "\n",
       "    .dataframe thead th {\n",
       "        text-align: right;\n",
       "    }\n",
       "</style>\n",
       "<table border=\"1\" class=\"dataframe\">\n",
       "  <thead>\n",
       "    <tr style=\"text-align: right;\">\n",
       "      <th></th>\n",
       "      <th>Id</th>\n",
       "      <th>MSSubClass</th>\n",
       "      <th>MSZoning</th>\n",
       "      <th>LotFrontage</th>\n",
       "      <th>LotArea</th>\n",
       "      <th>Street</th>\n",
       "      <th>Alley</th>\n",
       "      <th>LotShape</th>\n",
       "      <th>LandContour</th>\n",
       "      <th>Utilities</th>\n",
       "      <th>...</th>\n",
       "      <th>PoolArea</th>\n",
       "      <th>PoolQC</th>\n",
       "      <th>Fence</th>\n",
       "      <th>MiscFeature</th>\n",
       "      <th>MiscVal</th>\n",
       "      <th>MoSold</th>\n",
       "      <th>YrSold</th>\n",
       "      <th>SaleType</th>\n",
       "      <th>SaleCondition</th>\n",
       "      <th>SalePrice</th>\n",
       "    </tr>\n",
       "  </thead>\n",
       "  <tbody>\n",
       "    <tr>\n",
       "      <th>0</th>\n",
       "      <td>1</td>\n",
       "      <td>60</td>\n",
       "      <td>RL</td>\n",
       "      <td>65.0</td>\n",
       "      <td>8450</td>\n",
       "      <td>Pave</td>\n",
       "      <td>NaN</td>\n",
       "      <td>Reg</td>\n",
       "      <td>Lvl</td>\n",
       "      <td>AllPub</td>\n",
       "      <td>...</td>\n",
       "      <td>0</td>\n",
       "      <td>NaN</td>\n",
       "      <td>NaN</td>\n",
       "      <td>NaN</td>\n",
       "      <td>0</td>\n",
       "      <td>2</td>\n",
       "      <td>2008</td>\n",
       "      <td>WD</td>\n",
       "      <td>Normal</td>\n",
       "      <td>208500</td>\n",
       "    </tr>\n",
       "    <tr>\n",
       "      <th>1</th>\n",
       "      <td>2</td>\n",
       "      <td>20</td>\n",
       "      <td>RL</td>\n",
       "      <td>80.0</td>\n",
       "      <td>9600</td>\n",
       "      <td>Pave</td>\n",
       "      <td>NaN</td>\n",
       "      <td>Reg</td>\n",
       "      <td>Lvl</td>\n",
       "      <td>AllPub</td>\n",
       "      <td>...</td>\n",
       "      <td>0</td>\n",
       "      <td>NaN</td>\n",
       "      <td>NaN</td>\n",
       "      <td>NaN</td>\n",
       "      <td>0</td>\n",
       "      <td>5</td>\n",
       "      <td>2007</td>\n",
       "      <td>WD</td>\n",
       "      <td>Normal</td>\n",
       "      <td>181500</td>\n",
       "    </tr>\n",
       "    <tr>\n",
       "      <th>2</th>\n",
       "      <td>3</td>\n",
       "      <td>60</td>\n",
       "      <td>RL</td>\n",
       "      <td>68.0</td>\n",
       "      <td>11250</td>\n",
       "      <td>Pave</td>\n",
       "      <td>NaN</td>\n",
       "      <td>IR1</td>\n",
       "      <td>Lvl</td>\n",
       "      <td>AllPub</td>\n",
       "      <td>...</td>\n",
       "      <td>0</td>\n",
       "      <td>NaN</td>\n",
       "      <td>NaN</td>\n",
       "      <td>NaN</td>\n",
       "      <td>0</td>\n",
       "      <td>9</td>\n",
       "      <td>2008</td>\n",
       "      <td>WD</td>\n",
       "      <td>Normal</td>\n",
       "      <td>223500</td>\n",
       "    </tr>\n",
       "    <tr>\n",
       "      <th>3</th>\n",
       "      <td>4</td>\n",
       "      <td>70</td>\n",
       "      <td>RL</td>\n",
       "      <td>60.0</td>\n",
       "      <td>9550</td>\n",
       "      <td>Pave</td>\n",
       "      <td>NaN</td>\n",
       "      <td>IR1</td>\n",
       "      <td>Lvl</td>\n",
       "      <td>AllPub</td>\n",
       "      <td>...</td>\n",
       "      <td>0</td>\n",
       "      <td>NaN</td>\n",
       "      <td>NaN</td>\n",
       "      <td>NaN</td>\n",
       "      <td>0</td>\n",
       "      <td>2</td>\n",
       "      <td>2006</td>\n",
       "      <td>WD</td>\n",
       "      <td>Abnorml</td>\n",
       "      <td>140000</td>\n",
       "    </tr>\n",
       "    <tr>\n",
       "      <th>4</th>\n",
       "      <td>5</td>\n",
       "      <td>60</td>\n",
       "      <td>RL</td>\n",
       "      <td>84.0</td>\n",
       "      <td>14260</td>\n",
       "      <td>Pave</td>\n",
       "      <td>NaN</td>\n",
       "      <td>IR1</td>\n",
       "      <td>Lvl</td>\n",
       "      <td>AllPub</td>\n",
       "      <td>...</td>\n",
       "      <td>0</td>\n",
       "      <td>NaN</td>\n",
       "      <td>NaN</td>\n",
       "      <td>NaN</td>\n",
       "      <td>0</td>\n",
       "      <td>12</td>\n",
       "      <td>2008</td>\n",
       "      <td>WD</td>\n",
       "      <td>Normal</td>\n",
       "      <td>250000</td>\n",
       "    </tr>\n",
       "  </tbody>\n",
       "</table>\n",
       "<p>5 rows × 81 columns</p>\n",
       "</div>"
      ],
      "text/plain": [
       "   Id  MSSubClass MSZoning  LotFrontage  LotArea Street Alley LotShape  \\\n",
       "0   1          60       RL         65.0     8450   Pave   NaN      Reg   \n",
       "1   2          20       RL         80.0     9600   Pave   NaN      Reg   \n",
       "2   3          60       RL         68.0    11250   Pave   NaN      IR1   \n",
       "3   4          70       RL         60.0     9550   Pave   NaN      IR1   \n",
       "4   5          60       RL         84.0    14260   Pave   NaN      IR1   \n",
       "\n",
       "  LandContour Utilities  ... PoolArea PoolQC Fence MiscFeature MiscVal MoSold  \\\n",
       "0         Lvl    AllPub  ...        0    NaN   NaN         NaN       0      2   \n",
       "1         Lvl    AllPub  ...        0    NaN   NaN         NaN       0      5   \n",
       "2         Lvl    AllPub  ...        0    NaN   NaN         NaN       0      9   \n",
       "3         Lvl    AllPub  ...        0    NaN   NaN         NaN       0      2   \n",
       "4         Lvl    AllPub  ...        0    NaN   NaN         NaN       0     12   \n",
       "\n",
       "  YrSold  SaleType  SaleCondition  SalePrice  \n",
       "0   2008        WD         Normal     208500  \n",
       "1   2007        WD         Normal     181500  \n",
       "2   2008        WD         Normal     223500  \n",
       "3   2006        WD        Abnorml     140000  \n",
       "4   2008        WD         Normal     250000  \n",
       "\n",
       "[5 rows x 81 columns]"
      ]
     },
     "execution_count": 159,
     "metadata": {},
     "output_type": "execute_result"
    }
   ],
   "source": [
    "data.head(5)"
   ]
  },
  {
   "cell_type": "code",
   "execution_count": 160,
   "id": "7d875367",
   "metadata": {},
   "outputs": [
    {
     "data": {
      "text/plain": [
       "{'1stFlrSF',\n",
       " '3SsnPorch',\n",
       " 'BedroomAbvGr',\n",
       " 'BsmtFinSF2',\n",
       " 'FullBath',\n",
       " 'GarageArea',\n",
       " 'GarageCars',\n",
       " 'GarageYrBlt',\n",
       " 'GrLivArea',\n",
       " 'Id',\n",
       " 'MasVnrArea',\n",
       " 'MiscVal',\n",
       " 'OverallCond',\n",
       " 'SalePrice',\n",
       " 'ScreenPorch',\n",
       " 'TotRmsAbvGrd',\n",
       " 'TotalBsmtSF',\n",
       " 'YearBuilt'}"
      ]
     },
     "execution_count": 160,
     "metadata": {},
     "output_type": "execute_result"
    }
   ],
   "source": [
    "COLUMNS_WITH_HIGH_CORR"
   ]
  },
  {
   "cell_type": "code",
   "execution_count": 161,
   "id": "d207803a",
   "metadata": {},
   "outputs": [
    {
     "name": "stdout",
     "output_type": "stream",
     "text": [
      "Column\tMasVnrArea\thave\t8\tNULL\tValues \n",
      "Column\tGarageYrBlt\thave\t81\tNULL\tValues \n"
     ]
    }
   ],
   "source": [
    "for column,nullvalues in zip(data.columns,data.isnull().sum()):\n",
    "    if nullvalues>0 and column in COLUMNS_WITH_HIGH_CORR:\n",
    "        print(\"Column\\t{}\\thave\\t{}\\tNULL\\tValues \".format(column,nullvalues))"
   ]
  },
  {
   "cell_type": "code",
   "execution_count": 162,
   "id": "9d5b7675",
   "metadata": {},
   "outputs": [
    {
     "data": {
      "text/plain": [
       "count    1452.000000\n",
       "mean      103.685262\n",
       "std       181.066207\n",
       "min         0.000000\n",
       "25%         0.000000\n",
       "50%         0.000000\n",
       "75%       166.000000\n",
       "max      1600.000000\n",
       "Name: MasVnrArea, dtype: float64"
      ]
     },
     "execution_count": 162,
     "metadata": {},
     "output_type": "execute_result"
    }
   ],
   "source": [
    "data['MasVnrArea'].describe()"
   ]
  },
  {
   "cell_type": "code",
   "execution_count": 163,
   "id": "c08c748c",
   "metadata": {},
   "outputs": [],
   "source": [
    "data['MasVnrArea'].fillna(data['MasVnrArea'].std(),inplace=True)"
   ]
  },
  {
   "cell_type": "code",
   "execution_count": 164,
   "id": "4257a16c",
   "metadata": {},
   "outputs": [
    {
     "data": {
      "text/plain": [
       "0"
      ]
     },
     "execution_count": 164,
     "metadata": {},
     "output_type": "execute_result"
    }
   ],
   "source": [
    "data['MasVnrArea'].isnull().sum()"
   ]
  },
  {
   "cell_type": "code",
   "execution_count": 165,
   "id": "a83210a1",
   "metadata": {},
   "outputs": [
    {
     "data": {
      "text/plain": [
       "count    1379.000000\n",
       "mean     1978.506164\n",
       "std        24.689725\n",
       "min      1900.000000\n",
       "25%      1961.000000\n",
       "50%      1980.000000\n",
       "75%      2002.000000\n",
       "max      2010.000000\n",
       "Name: GarageYrBlt, dtype: float64"
      ]
     },
     "execution_count": 165,
     "metadata": {},
     "output_type": "execute_result"
    }
   ],
   "source": [
    "data['GarageYrBlt'].describe()"
   ]
  },
  {
   "cell_type": "code",
   "execution_count": 166,
   "id": "e79f71b9",
   "metadata": {},
   "outputs": [],
   "source": [
    "data['GarageYrBlt'].fillna(data['GarageYrBlt'].mean(),inplace=True)"
   ]
  },
  {
   "cell_type": "code",
   "execution_count": 167,
   "id": "749431a1",
   "metadata": {},
   "outputs": [
    {
     "data": {
      "text/plain": [
       "0"
      ]
     },
     "execution_count": 167,
     "metadata": {},
     "output_type": "execute_result"
    }
   ],
   "source": [
    "data['GarageYrBlt'].isnull().sum()"
   ]
  },
  {
   "cell_type": "code",
   "execution_count": 168,
   "id": "4f600c7d",
   "metadata": {},
   "outputs": [
    {
     "name": "stdout",
     "output_type": "stream",
     "text": [
      "UNKNOWN FILLED Alley\n",
      "UNKNOWN FILLED MasVnrType\n",
      "UNKNOWN FILLED BsmtQual\n",
      "UNKNOWN FILLED BsmtCond\n",
      "UNKNOWN FILLED BsmtExposure\n",
      "UNKNOWN FILLED BsmtFinType1\n",
      "UNKNOWN FILLED BsmtFinType2\n",
      "UNKNOWN FILLED Electrical\n",
      "UNKNOWN FILLED FireplaceQu\n",
      "UNKNOWN FILLED GarageType\n",
      "UNKNOWN FILLED GarageFinish\n",
      "UNKNOWN FILLED GarageQual\n",
      "UNKNOWN FILLED GarageCond\n",
      "UNKNOWN FILLED PoolQC\n",
      "UNKNOWN FILLED Fence\n",
      "UNKNOWN FILLED MiscFeature\n"
     ]
    }
   ],
   "source": [
    "for i,j in zip(data.columns,data.isnull().sum()):\n",
    "    if j>0:\n",
    "        if data[i].dtype in ['int64','float64']:\n",
    "            data[i].fillna(data[i].std(),inplace=True)\n",
    "        else:\n",
    "            print (\"UNKNOWN FILLED {}\".format(i))\n",
    "            data[i].fillna(\"UNKNOWS\",inplace=True)"
   ]
  },
  {
   "cell_type": "code",
   "execution_count": null,
   "id": "8f94a9a7",
   "metadata": {},
   "outputs": [],
   "source": []
  },
  {
   "cell_type": "code",
   "execution_count": 169,
   "id": "642bf43b",
   "metadata": {},
   "outputs": [],
   "source": [
    "data = data.drop(['Id', 'PoolQC', 'MiscFeature', 'Condition2', 'Exterior2nd', '1stFlrSF', 'TotRmsAbvGrd', 'GarageArea', 'Utilities', 'Street', 'Alley'], axis=1)"
   ]
  },
  {
   "cell_type": "code",
   "execution_count": 170,
   "id": "404f038d",
   "metadata": {},
   "outputs": [
    {
     "data": {
      "text/plain": [
       "MSSubClass       0\n",
       "MSZoning         0\n",
       "LotFrontage      0\n",
       "LotArea          0\n",
       "LotShape         0\n",
       "                ..\n",
       "MoSold           0\n",
       "YrSold           0\n",
       "SaleType         0\n",
       "SaleCondition    0\n",
       "SalePrice        0\n",
       "Length: 70, dtype: int64"
      ]
     },
     "execution_count": 170,
     "metadata": {},
     "output_type": "execute_result"
    }
   ],
   "source": [
    "data.isnull().sum()"
   ]
  },
  {
   "cell_type": "code",
   "execution_count": 171,
   "id": "24c1b87f",
   "metadata": {},
   "outputs": [],
   "source": [
    "train_y = data['SalePrice']\n",
    "train_x = data.drop('SalePrice', axis=1)"
   ]
  },
  {
   "cell_type": "code",
   "execution_count": 172,
   "id": "66c65be4",
   "metadata": {},
   "outputs": [],
   "source": [
    "from sklearn import preprocessing\n",
    "# Helper function to encode categorical labels"
   ]
  },
  {
   "cell_type": "code",
   "execution_count": 173,
   "id": "b088aff5",
   "metadata": {},
   "outputs": [],
   "source": [
    "def encode_labels(dataset):\n",
    "    label_encoder = preprocessing.LabelEncoder()\n",
    "    for column in dataset:\n",
    "        dtype = dataset[column].dtype\n",
    "        if dtype not in ['int64', 'float64']:\n",
    "            dataset[column] = label_encoder.fit_transform(dataset[column])\n",
    "    return dataset"
   ]
  },
  {
   "cell_type": "code",
   "execution_count": 174,
   "id": "0f2c44a1",
   "metadata": {},
   "outputs": [],
   "source": [
    "# Standardize and normalize the data\n",
    "from sklearn.preprocessing import StandardScaler\n",
    "\n",
    "train_x = encode_labels(train_x)\n",
    "\n",
    "test_ids = test_data['Id']\n",
    "common_cols = [col for col in set(data.columns).intersection(test_data.columns)]\n",
    "test_data = test_data[common_cols]\n",
    "train_x = train_x[common_cols]\n",
    "sc = StandardScaler()\n",
    "train_x = sc.fit_transform(train_x)\n",
    "test_data = encode_labels(test_data)\n",
    "test_data = sc.transform(test_data) "
   ]
  },
  {
   "cell_type": "code",
   "execution_count": 175,
   "id": "40bc3cdd",
   "metadata": {},
   "outputs": [
    {
     "data": {
      "text/html": [
       "<style>#sk-container-id-3 {color: black;background-color: white;}#sk-container-id-3 pre{padding: 0;}#sk-container-id-3 div.sk-toggleable {background-color: white;}#sk-container-id-3 label.sk-toggleable__label {cursor: pointer;display: block;width: 100%;margin-bottom: 0;padding: 0.3em;box-sizing: border-box;text-align: center;}#sk-container-id-3 label.sk-toggleable__label-arrow:before {content: \"▸\";float: left;margin-right: 0.25em;color: #696969;}#sk-container-id-3 label.sk-toggleable__label-arrow:hover:before {color: black;}#sk-container-id-3 div.sk-estimator:hover label.sk-toggleable__label-arrow:before {color: black;}#sk-container-id-3 div.sk-toggleable__content {max-height: 0;max-width: 0;overflow: hidden;text-align: left;background-color: #f0f8ff;}#sk-container-id-3 div.sk-toggleable__content pre {margin: 0.2em;color: black;border-radius: 0.25em;background-color: #f0f8ff;}#sk-container-id-3 input.sk-toggleable__control:checked~div.sk-toggleable__content {max-height: 200px;max-width: 100%;overflow: auto;}#sk-container-id-3 input.sk-toggleable__control:checked~label.sk-toggleable__label-arrow:before {content: \"▾\";}#sk-container-id-3 div.sk-estimator input.sk-toggleable__control:checked~label.sk-toggleable__label {background-color: #d4ebff;}#sk-container-id-3 div.sk-label input.sk-toggleable__control:checked~label.sk-toggleable__label {background-color: #d4ebff;}#sk-container-id-3 input.sk-hidden--visually {border: 0;clip: rect(1px 1px 1px 1px);clip: rect(1px, 1px, 1px, 1px);height: 1px;margin: -1px;overflow: hidden;padding: 0;position: absolute;width: 1px;}#sk-container-id-3 div.sk-estimator {font-family: monospace;background-color: #f0f8ff;border: 1px dotted black;border-radius: 0.25em;box-sizing: border-box;margin-bottom: 0.5em;}#sk-container-id-3 div.sk-estimator:hover {background-color: #d4ebff;}#sk-container-id-3 div.sk-parallel-item::after {content: \"\";width: 100%;border-bottom: 1px solid gray;flex-grow: 1;}#sk-container-id-3 div.sk-label:hover label.sk-toggleable__label {background-color: #d4ebff;}#sk-container-id-3 div.sk-serial::before {content: \"\";position: absolute;border-left: 1px solid gray;box-sizing: border-box;top: 0;bottom: 0;left: 50%;z-index: 0;}#sk-container-id-3 div.sk-serial {display: flex;flex-direction: column;align-items: center;background-color: white;padding-right: 0.2em;padding-left: 0.2em;position: relative;}#sk-container-id-3 div.sk-item {position: relative;z-index: 1;}#sk-container-id-3 div.sk-parallel {display: flex;align-items: stretch;justify-content: center;background-color: white;position: relative;}#sk-container-id-3 div.sk-item::before, #sk-container-id-3 div.sk-parallel-item::before {content: \"\";position: absolute;border-left: 1px solid gray;box-sizing: border-box;top: 0;bottom: 0;left: 50%;z-index: -1;}#sk-container-id-3 div.sk-parallel-item {display: flex;flex-direction: column;z-index: 1;position: relative;background-color: white;}#sk-container-id-3 div.sk-parallel-item:first-child::after {align-self: flex-end;width: 50%;}#sk-container-id-3 div.sk-parallel-item:last-child::after {align-self: flex-start;width: 50%;}#sk-container-id-3 div.sk-parallel-item:only-child::after {width: 0;}#sk-container-id-3 div.sk-dashed-wrapped {border: 1px dashed gray;margin: 0 0.4em 0.5em 0.4em;box-sizing: border-box;padding-bottom: 0.4em;background-color: white;}#sk-container-id-3 div.sk-label label {font-family: monospace;font-weight: bold;display: inline-block;line-height: 1.2em;}#sk-container-id-3 div.sk-label-container {text-align: center;}#sk-container-id-3 div.sk-container {/* jupyter's `normalize.less` sets `[hidden] { display: none; }` but bootstrap.min.css set `[hidden] { display: none !important; }` so we also need the `!important` here to be able to override the default hidden behavior on the sphinx rendered scikit-learn.org. See: https://github.com/scikit-learn/scikit-learn/issues/21755 */display: inline-block !important;position: relative;}#sk-container-id-3 div.sk-text-repr-fallback {display: none;}</style><div id=\"sk-container-id-3\" class=\"sk-top-container\"><div class=\"sk-text-repr-fallback\"><pre>DecisionTreeRegressor()</pre><b>In a Jupyter environment, please rerun this cell to show the HTML representation or trust the notebook. <br />On GitHub, the HTML representation is unable to render, please try loading this page with nbviewer.org.</b></div><div class=\"sk-container\" hidden><div class=\"sk-item\"><div class=\"sk-estimator sk-toggleable\"><input class=\"sk-toggleable__control sk-hidden--visually\" id=\"sk-estimator-id-5\" type=\"checkbox\" checked><label for=\"sk-estimator-id-5\" class=\"sk-toggleable__label sk-toggleable__label-arrow\">DecisionTreeRegressor</label><div class=\"sk-toggleable__content\"><pre>DecisionTreeRegressor()</pre></div></div></div></div></div>"
      ],
      "text/plain": [
       "DecisionTreeRegressor()"
      ]
     },
     "execution_count": 175,
     "metadata": {},
     "output_type": "execute_result"
    }
   ],
   "source": [
    "from sklearn.tree import DecisionTreeRegressor\n",
    "modeltree = DecisionTreeRegressor()\n",
    "modeltree.fit(train_x, train_y)"
   ]
  },
  {
   "cell_type": "code",
   "execution_count": 105,
   "id": "a595e30e",
   "metadata": {},
   "outputs": [],
   "source": [
    "# Perform predictions on test data\n",
    "model = random_search\n",
    "preds = model.predict(test_data)\n",
    "submission = pd.DataFrame()\n",
    "submission['Id'] = test_ids\n",
    "submission['SalePrice'] = preds"
   ]
  },
  {
   "cell_type": "code",
   "execution_count": 106,
   "id": "1a46ce82",
   "metadata": {},
   "outputs": [],
   "source": [
    "# Save the submission file\n",
    "from pathlib import Path  \n",
    "filepath = Path('submission.csv')  \n",
    "filepath.parent.mkdir(parents=True, exist_ok=True)\n",
    "submission.to_csv('submission.csv', sep=',', index=False)"
   ]
  },
  {
   "cell_type": "code",
   "execution_count": null,
   "id": "57b8b6ee",
   "metadata": {},
   "outputs": [],
   "source": []
  }
 ],
 "metadata": {
  "kernelspec": {
   "display_name": "Python 3",
   "language": "python",
   "name": "python3"
  },
  "language_info": {
   "codemirror_mode": {
    "name": "ipython",
    "version": 3
   },
   "file_extension": ".py",
   "mimetype": "text/x-python",
   "name": "python",
   "nbconvert_exporter": "python",
   "pygments_lexer": "ipython3",
   "version": "3.8.13"
  }
 },
 "nbformat": 4,
 "nbformat_minor": 5
}
